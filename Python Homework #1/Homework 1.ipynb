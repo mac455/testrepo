{
 "cells": [
  {
   "cell_type": "markdown",
   "metadata": {},
   "source": [
    "To complete the homework simply fill in your answers in this jupyter notebook!\n",
    "\n",
    "Remember that there are many ways in which markup cells can be used and you can add useful things such as references and images to better explain your answers.\n",
    "\n",
    "It is perfectly fine if you copy your answer from somewhere else in the internet as long as you understand the code you copied and cite the source. However, refrain from asking help for your colleagues (unless you're really struggling) as the ability to find information online is crucial for any tech role you might want to have in the future.\n",
    "\n",
    "<h1> Question 1: Multiple prints</h1>\n",
    "Create 3 different variables of different types and print their values using a single print statement."
   ]
  },
  {
   "cell_type": "code",
   "execution_count": 5,
   "metadata": {},
   "outputs": [
    {
     "name": "stdout",
     "output_type": "stream",
     "text": [
      "Hello , 2 , (1, 2, 3)\n"
     ]
    }
   ],
   "source": [
    "var1 = \"Hello\"\n",
    "var2 = 2\n",
    "var3 = (1,2,3)\n",
    "print(var1,\",\" , var2, \",\", var3)"
   ]
  },
  {
   "cell_type": "markdown",
   "metadata": {},
   "source": [
    "<h1> Question 2: Data structures</h1>\n",
    "Create two variables containing each a nested list and a nested dictionary and demonstrate how to access specific items of it."
   ]
  },
  {
   "cell_type": "code",
   "execution_count": 11,
   "metadata": {},
   "outputs": [
    {
     "name": "stdout",
     "output_type": "stream",
     "text": [
      "3\n",
      "Anthony\n"
     ]
    }
   ],
   "source": [
    "MyList = [[1,2,3,4,5], [\"Red\",\"Blue\", \"Yellow\",]] # Nested List \n",
    "\n",
    "MyDict =  {'Dict1': {\"first name\": \"Anthony\",\n",
    "           \"second name\":\"Jackson\",\n",
    "           \"height\" : \"6ft\"}, \n",
    "           'Dict2' : {\"first name\": \"Jack\",\n",
    "           \"second name\":\"Wayne\",\n",
    "           \"height\" : \"5ft10\"}} # Nested Dictionary\n",
    "         \n",
    "print(MyList[0][2])  # Acessing number 3 in first list\n",
    "print(MyDict['Dict1']['first name']) # Acessing First name in Dict 1 \n",
    "\n",
    "# From: https://packetpushers.net/blog/how-to-reference-nested-python-lists-dictionaries/\n",
    "\n",
    "           "
   ]
  },
  {
   "cell_type": "markdown",
   "metadata": {},
   "source": [
    "Now consider the following list,"
   ]
  },
  {
   "cell_type": "code",
   "execution_count": 25,
   "metadata": {},
   "outputs": [
    {
     "name": "stdout",
     "output_type": "stream",
     "text": [
      "[1, 2, 3, 4]\n",
      "[2, 4, 6, 8]\n",
      "[3, 6, 9]\n",
      "['I have 3 cars', 'I have 6 cars', 'I have 9 cars']\n"
     ]
    }
   ],
   "source": [
    "a_list = [1,2,3,4,5,6,7,8,9]\n",
    "print(a_list[:4])\n",
    "newlist = [num for num in a_list if num % 2 == 0 ]\n",
    "print(newlist)\n",
    "\n",
    "multiples_of_three = [num for num in a_list if num % 3 == 0 ]\n",
    "print(multiples_of_three)\n",
    "\n",
    "new_sentence =[f'I have {num} cars' for num in multiples_of_three ]\n",
    "print(new_sentence)\n",
    "\n",
    "\n",
    "\n",
    "\n",
    "\"\"\"\n",
    "Source:\n",
    "https://www.mytutor.co.uk/answers/58831/Mentoring/Python/Given-a-list-of-N-numbers-use-a-single-list-comprehension-to-produce-a-new-list-that-only-contains-those-values-that-are-a-even-numbers-and-b-from-elements-in-the-original-list-that-had-even-indices/\n",
    "https://stackoverflow.com/questions/57792902/f-string-list-comprehensions-example-needed\n",
    "\"\"\""
   ]
  },
  {
   "cell_type": "markdown",
   "metadata": {},
   "source": [
    "1 - slice this list (by index) to contain only the numbers smaller than 5; <br>\n",
    "2 - make a loop to create a new list containing only the EVEN numbers of this list (bonus point if you use a list comprehension!!);<br>\n",
    "3 - make a loop to create a new list containing only the numbers that are multiples of 3;<br>\n",
    "Bonus - make a loop that will print every item on the list inside a sentence using a f-string."
   ]
  },
  {
   "cell_type": "markdown",
   "metadata": {},
   "source": [
    "<h1>Question 3: Creating functions</h1>\n",
    "\n",
    "Create a function that takes a list of numbers and convert them into strings. (bonus point if you use a list comprehension!!)"
   ]
  },
  {
   "cell_type": "code",
   "execution_count": 2,
   "metadata": {},
   "outputs": [
    {
     "name": "stdout",
     "output_type": "stream",
     "text": [
      "['1', '2', '3', '4', '5', '6', '7', '8', '9']\n"
     ]
    }
   ],
   "source": [
    "a_list = [1, 2, 3, 4, 5, 6, 7, 8, 9]\n",
    "\n",
    "\n",
    "strings = [f'{num}' for num in a_list]\n",
    "\n",
    "print(strings)\n"
   ]
  },
  {
   "cell_type": "code",
   "execution_count": 9,
   "metadata": {},
   "outputs": [
    {
     "data": {
      "text/plain": [
       "'1'"
      ]
     },
     "execution_count": 9,
     "metadata": {},
     "output_type": "execute_result"
    }
   ],
   "source": [
    "variable = 1\n",
    "str(variable)"
   ]
  },
  {
   "cell_type": "code",
   "execution_count": 11,
   "metadata": {},
   "outputs": [],
   "source": [
    "yet_another_list = []"
   ]
  },
  {
   "cell_type": "code",
   "execution_count": 12,
   "metadata": {},
   "outputs": [
    {
     "data": {
      "text/plain": [
       "[]"
      ]
     },
     "execution_count": 12,
     "metadata": {},
     "output_type": "execute_result"
    }
   ],
   "source": [
    "yet_another_list"
   ]
  },
  {
   "cell_type": "code",
   "execution_count": 13,
   "metadata": {},
   "outputs": [],
   "source": [
    "yet_another_list.append('cat')"
   ]
  },
  {
   "cell_type": "code",
   "execution_count": 14,
   "metadata": {},
   "outputs": [
    {
     "data": {
      "text/plain": [
       "['cat']"
      ]
     },
     "execution_count": 14,
     "metadata": {},
     "output_type": "execute_result"
    }
   ],
   "source": [
    "yet_another_list"
   ]
  },
  {
   "cell_type": "code",
   "execution_count": null,
   "metadata": {},
   "outputs": [],
   "source": []
  },
  {
   "cell_type": "code",
   "execution_count": 15,
   "metadata": {},
   "outputs": [],
   "source": [
    "def numberToString(the_list):\n",
    "    another_list = []\n",
    "    \n",
    "    for item in the_list:    \n",
    "        converted_item = str(item)\n",
    "        another_list.append(converted_item)\n",
    "        \n",
    "    return(another_list)"
   ]
  },
  {
   "cell_type": "code",
   "execution_count": null,
   "metadata": {},
   "outputs": [],
   "source": []
  },
  {
   "cell_type": "code",
   "execution_count": 16,
   "metadata": {},
   "outputs": [
    {
     "data": {
      "text/plain": [
       "['1', '2', '3', '4', '5']"
      ]
     },
     "execution_count": 16,
     "metadata": {},
     "output_type": "execute_result"
    }
   ],
   "source": [
    "my_list = [1,2,3,4,5]\n",
    "\n",
    "numberToString(the_list=my_list)"
   ]
  },
  {
   "cell_type": "code",
   "execution_count": 20,
   "metadata": {},
   "outputs": [
    {
     "data": {
      "text/plain": [
       "['1', '2', '3', '4', '5']"
      ]
     },
     "execution_count": 20,
     "metadata": {},
     "output_type": "execute_result"
    }
   ],
   "source": [
    "new_list = [str(number) for number in my_list]\n",
    "new_list"
   ]
  },
  {
   "cell_type": "code",
   "execution_count": 19,
   "metadata": {},
   "outputs": [
    {
     "data": {
      "text/plain": [
       "['0', '1', '2', '3', '4', '5', '6', '7', '8', '9']"
      ]
     },
     "execution_count": 19,
     "metadata": {},
     "output_type": "execute_result"
    }
   ],
   "source": [
    "new_list = [str(number) for number in range(10)]\n",
    "new_list"
   ]
  },
  {
   "cell_type": "markdown",
   "metadata": {},
   "source": [
    "Create a small calculator. The function should pick two numbers and perform one of four mathematical operations with it (sum/subtraction, division, multiplication, exponents). The desired operation should be an option (hint: what IF the user wants to do a sum?)\n",
    "\n",
    "Bonus: Make a function that can pick ANY number of numbers."
   ]
  },
  {
   "cell_type": "code",
   "execution_count": null,
   "metadata": {},
   "outputs": [],
   "source": [
    "def calc (num1, num2):\n",
    "    num1 = float(input())\n",
    "    num2 = float(input())\n"
   ]
  },
  {
   "cell_type": "markdown",
   "metadata": {},
   "source": [
    "Create a function that check if a number is within a list of numbers."
   ]
  },
  {
   "cell_type": "code",
   "execution_count": null,
   "metadata": {},
   "outputs": [],
   "source": []
  },
  {
   "cell_type": "markdown",
   "metadata": {},
   "source": [
    "Bonus: similar to the item above, create a function that checks if a string contains a given substring, e.g. 'I have a cat' contains the string sequence 'cat' or 'ave'."
   ]
  },
  {
   "cell_type": "code",
   "execution_count": null,
   "metadata": {},
   "outputs": [],
   "source": []
  },
  {
   "cell_type": "markdown",
   "metadata": {},
   "source": [
    "Bonus: create a function that given the initial speed of a projectile that is thrown at 90 degrees will calculate how much time the projectile will take to get back to the initial altitude. (yes you're expected to disregard air resistence)"
   ]
  },
  {
   "cell_type": "code",
   "execution_count": null,
   "metadata": {},
   "outputs": [],
   "source": []
  },
  {
   "cell_type": "markdown",
   "metadata": {},
   "source": [
    "<h1>solve these questions...or ELSE</h1>\n",
    "\n",
    "Why the nested if statement below doesn't only produce the first print? Can you modify it so it produces the desired output?"
   ]
  },
  {
   "cell_type": "code",
   "execution_count": 13,
   "metadata": {},
   "outputs": [
    {
     "name": "stdout",
     "output_type": "stream",
     "text": [
      "Yeeeey!\n"
     ]
    }
   ],
   "source": [
    "food = 'Pizza'\n",
    "drinks = 'Beer'\n",
    "\n",
    "if food == 'Pizza' and drinks == 'Beer':\n",
    "    print('Yeeeey!')\n",
    "else:\n",
    "    print('.....???')"
   ]
  },
  {
   "cell_type": "markdown",
   "metadata": {},
   "source": [
    "<h1> Debugging </h1>\n",
    "None of the blocks of code below work. Your task is to make them work (if possible!) and add markup cells (or comments) explaining why they don't work."
   ]
  },
  {
   "cell_type": "markdown",
   "metadata": {},
   "source": [
    "print(\"Is this working?\")"
   ]
  },
  {
   "cell_type": "code",
   "execution_count": 15,
   "metadata": {},
   "outputs": [
    {
     "name": "stdout",
     "output_type": "stream",
     "text": [
      "does this work?\n"
     ]
    }
   ],
   "source": [
    "print(\"does this work?\")"
   ]
  },
  {
   "cell_type": "code",
   "execution_count": 4,
   "metadata": {},
   "outputs": [
    {
     "name": "stdout",
     "output_type": "stream",
     "text": [
      "about now?\n"
     ]
    }
   ],
   "source": [
    "print('about now?')"
   ]
  },
  {
   "cell_type": "markdown",
   "metadata": {},
   "source": [
    "Using a double quote and single quote"
   ]
  },
  {
   "cell_type": "code",
   "execution_count": 9,
   "metadata": {},
   "outputs": [
    {
     "name": "stdout",
     "output_type": "stream",
     "text": [
      "Today on a scale from 1 to 10,  I am feeling... 10\n"
     ]
    }
   ],
   "source": [
    "my_mood = 10\n",
    "text_variable = f'Today on a scale from 1 to 10,  I am feeling... {my_mood}'\n",
    "print(text_variable)"
   ]
  },
  {
   "cell_type": "markdown",
   "metadata": {},
   "source": [
    "text_variable was run before my_mood was defined, \n",
    "and needed to use formatted string isnt of normal string \n"
   ]
  },
  {
   "cell_type": "code",
   "execution_count": 8,
   "metadata": {},
   "outputs": [
    {
     "name": "stdout",
     "output_type": "stream",
     "text": [
      "Today on a scale from 1 to 10 I am feeling...10\n"
     ]
    }
   ],
   "source": [
    "text_variable = \"Today on a scale from 1 to 10 I am feeling...\"\n",
    "my_mood = '10'\n",
    "print(text_variable + my_mood) #Yep there are ways to make it work with a + operator too!"
   ]
  },
  {
   "cell_type": "markdown",
   "metadata": {},
   "source": [
    "Turn my_mood into a string "
   ]
  },
  {
   "cell_type": "code",
   "execution_count": 12,
   "metadata": {},
   "outputs": [],
   "source": [
    "a_dictionary = {'item1': 'Value 1',\n",
    "                'item2' : 'value 2',}"
   ]
  },
  {
   "cell_type": "markdown",
   "metadata": {},
   "source": [
    "Items needed to be string also"
   ]
  },
  {
   "cell_type": "code",
   "execution_count": 14,
   "metadata": {},
   "outputs": [
    {
     "data": {
      "text/plain": [
       "True"
      ]
     },
     "execution_count": 14,
     "metadata": {},
     "output_type": "execute_result"
    }
   ],
   "source": [
    "1 == 1 # Should return True"
   ]
  },
  {
   "cell_type": "markdown",
   "metadata": {},
   "source": [
    "Needed comparison operator rather than variable"
   ]
  },
  {
   "cell_type": "code",
   "execution_count": 18,
   "metadata": {},
   "outputs": [
    {
     "name": "stdout",
     "output_type": "stream",
     "text": [
      "Clap your hands\n"
     ]
    }
   ],
   "source": [
    "# Why isn't the outcome 'Clap your hands?'\n",
    "mood = 'Happy'\n",
    "if mood == 'Happy':\n",
    "    print('Clap your hands')\n",
    "else:\n",
    "    print('...do I look like I have this one figured out?')"
   ]
  },
  {
   "cell_type": "markdown",
   "metadata": {},
   "source": [
    "Capitalisation needed on the 'happy' object in mood "
   ]
  },
  {
   "cell_type": "code",
   "execution_count": 20,
   "metadata": {},
   "outputs": [
    {
     "name": "stdout",
     "output_type": "stream",
     "text": [
      "a word another word\n"
     ]
    }
   ],
   "source": [
    "def printerfunction(x,y):\n",
    "    print(x,y)\n",
    "\n",
    "printerfunction(\"a word\", \"another word\")"
   ]
  },
  {
   "cell_type": "markdown",
   "metadata": {},
   "source": [
    "Indendation needed"
   ]
  },
  {
   "cell_type": "code",
   "execution_count": 22,
   "metadata": {},
   "outputs": [
    {
     "name": "stdout",
     "output_type": "stream",
     "text": [
      "Clap your hands\n"
     ]
    }
   ],
   "source": [
    "# bonus/annoying round, why is this crashing?\n",
    "mood = 'Happy'\n",
    "if mood == 'Happy':\n",
    "   print('Clap your hands')\n",
    "else:\n",
    "    print('...do I look like I have this one figured out?')"
   ]
  },
  {
   "cell_type": "markdown",
   "metadata": {},
   "source": [
    "Its not crashing.."
   ]
  }
 ],
 "metadata": {
  "kernelspec": {
   "display_name": "Python 3 (ipykernel)",
   "language": "python",
   "name": "python3"
  },
  "language_info": {
   "codemirror_mode": {
    "name": "ipython",
    "version": 3
   },
   "file_extension": ".py",
   "mimetype": "text/x-python",
   "name": "python",
   "nbconvert_exporter": "python",
   "pygments_lexer": "ipython3",
   "version": "3.11.7"
  }
 },
 "nbformat": 4,
 "nbformat_minor": 4
}
